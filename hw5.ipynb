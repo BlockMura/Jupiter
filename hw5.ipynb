{
 "cells": [
  {
   "cell_type": "markdown",
   "metadata": {},
   "source": [
    "#### Задача 1"
   ]
  },
  {
   "cell_type": "code",
   "execution_count": 170,
   "metadata": {},
   "outputs": [
    {
     "name": "stdout",
     "output_type": "stream",
     "text": [
      "\n",
      "1\n"
     ]
    }
   ],
   "source": [
    "import numpy as np\n",
    "n = 1\n",
    "for i in range(0, n):\n",
    "    a = input()\n",
    "    x = np.random.randint(0, 37)\n",
    "    print(x)    "
   ]
  },
  {
   "cell_type": "markdown",
   "metadata": {},
   "source": [
    "\n",
    "#### Задача 2"
   ]
  },
  {
   "cell_type": "code",
   "execution_count": 171,
   "metadata": {},
   "outputs": [
    {
     "name": "stdout",
     "output_type": "stream",
     "text": [
      "орел\n",
      "орел\n",
      "решка\n",
      "0.6666666666666666 0.3333333333333333 1.0\n"
     ]
    }
   ],
   "source": [
    "k,m = 0,0\n",
    "n = 3\n",
    "for i in range(0, n):\n",
    "    x = np.random.uniform(0, 10)\n",
    "    if x < 5:\n",
    "        print('орел')\n",
    "        k=k+1\n",
    "    else:\n",
    "        print('решка')\n",
    "        m=m+1\n",
    "print(k/n,m/n, k/n+m/n)\n"
   ]
  },
  {
   "cell_type": "code",
   "execution_count": 172,
   "metadata": {},
   "outputs": [
    {
     "name": "stdout",
     "output_type": "stream",
     "text": [
      "2 15 22 30 48 59 63 77 -1 -15\n",
      "300\n"
     ]
    },
    {
     "data": {
      "text/plain": [
       "Text(0.5, 1.0, 'Histogram')"
      ]
     },
     "execution_count": 172,
     "metadata": {},
     "output_type": "execute_result"
    },
    {
     "data": {
      "image/png": "[encoded data removed]",
      "text/plain": [
       "<Figure size 432x288 with 1 Axes>"
      ]
     },
     "metadata": {
      "needs_background": "light"
     },
     "output_type": "display_data"
    }
   ],
   "source": [
    "%matplotlib inline\n",
    "import matplotlib.pyplot as plt\n",
    "x0 = np.random.randint(0, 10)\n",
    "x1 = np.random.randint(10, 20)\n",
    "x2 = np.random.randint(20, 30)\n",
    "x3 = np.random.randint(30, 40)\n",
    "x4 = np.random.randint(40, 50) \n",
    "x5 = np.random.randint(50, 60)\n",
    "x6 = np.random.randint(60, 70)\n",
    "x7 = np.random.randint(70, 80)\n",
    "x8 = np.random.randint(-10, 0)\n",
    "x9 = np.random.randint(-20, -10)\n",
    "print(x0, x1, x2, x3, x4, x5, x6, x7, x8, x9)\n",
    "x = x0+x1+x2+x3+x4+x5+x6+x7+x8+x9\n",
    "print(x)\n",
    "num_bins = 5\n",
    "n, bins, patches = plt.hist(x, num_bins)\n",
    "plt.xlabel('x')\n",
    "plt.ylabel('probability')\n",
    "plt.title('Histogram')"
   ]
  },
  {
   "cell_type": "code",
   "execution_count": 173,
   "metadata": {},
   "outputs": [
    {
     "data": {
      "text/plain": [
       "Text(0.5, 1.0, 'Histogram')"
      ]
     },
     "execution_count": 173,
     "metadata": {},
     "output_type": "execute_result"
    },
    {
     "data": {
      "image/png": "[encoded data removed]",
      "text/plain": [
       "<Figure size 432x288 with 1 Axes>"
      ]
     },
     "metadata": {
      "needs_background": "light"
     },
     "output_type": "display_data"
    }
   ],
   "source": [
    "x0 = np.random.rand(100)\n",
    "x1 = np.random.rand(100)\n",
    "x2 = np.random.rand(100)\n",
    "x3 = np.random.rand(100)\n",
    "x4 = np.random.rand(100)\n",
    "x5 = np.random.rand(100)\n",
    "x6 = np.random.rand(100)\n",
    "x7 = np.random.rand(100)\n",
    "x8 = np.random.rand(100)\n",
    "x9 = np.random.rand(100)\n",
    "x= x0+x1+x2+x3+x4+x5+x6+x7+x8+x9\n",
    "num_bins = 5\n",
    "n, bins, patches = plt.hist(x, num_bins)\n",
    "plt.xlabel('x')\n",
    "plt.ylabel('probability')\n",
    "plt.title('Histogram')"
   ]
  },
  {
   "cell_type": "markdown",
   "metadata": {},
   "source": [
    "#### Задание 3"
   ]
  },
  {
   "cell_type": "code",
   "execution_count": 174,
   "metadata": {},
   "outputs": [
    {
     "name": "stdout",
     "output_type": "stream",
     "text": [
      "3673 10000 0.3673\n",
      "6.0\n",
      "0.375\n"
     ]
    }
   ],
   "source": [
    "import itertools\n",
    "import math\n",
    "k,n = 0,10000\n",
    "a = np.random.randint(0,2,n)\n",
    "b = np.random.randint(0,2,n)\n",
    "c = np.random.randint(0,2,n)\n",
    "d = np.random.randint(0,2,n)\n",
    "x = a +b +c + d\n",
    "for i in range(0,n):\n",
    "    if x[i] == 2:\n",
    "        k = k+1\n",
    "#print(a,b,c,d)\n",
    "#print(x)\n",
    "print(k,n,k/n)\n",
    "n1=4\n",
    "k1=2\n",
    "C = math.factorial(n1)/(math.factorial(k1)*math.factorial(n1-k1))\n",
    "print(C)\n",
    "P = C*(1/2**k1)*(1/2**(n1-k1))\n",
    "print(P)\n"
   ]
  },
  {
   "cell_type": "code",
   "execution_count": 175,
   "metadata": {},
   "outputs": [
    {
     "name": "stdout",
     "output_type": "stream",
     "text": [
      "2517 10000 0.2517\n",
      "4.0\n",
      "0.25\n"
     ]
    }
   ],
   "source": [
    "k,n = 0,10000\n",
    "a = np.random.randint(0,2,n)\n",
    "b = np.random.randint(0,2,n)\n",
    "c = np.random.randint(0,2,n)\n",
    "d = np.random.randint(0,2,n)\n",
    "x = a +b +c + d\n",
    "for i in range(0,n):\n",
    "    if x[i] == 1:\n",
    "        k = k+1\n",
    "#print(a,b,c,d)\n",
    "#print(x)\n",
    "print(k,n,k/n)\n",
    "n1=4\n",
    "k1=1\n",
    "C = math.factorial(n1)/(math.factorial(k1)*math.factorial(n1-k1))\n",
    "print(C)\n",
    "P = C*(1/2**k1)*(1/2**(n1-k1))\n",
    "print(P)"
   ]
  },
  {
   "cell_type": "code",
   "execution_count": 176,
   "metadata": {},
   "outputs": [
    {
     "name": "stdout",
     "output_type": "stream",
     "text": [
      "2416 10000 0.2416\n",
      "4.0\n",
      "0.25\n"
     ]
    }
   ],
   "source": [
    "k,n = 0,10000\n",
    "a = np.random.randint(0,2,n)\n",
    "b = np.random.randint(0,2,n)\n",
    "c = np.random.randint(0,2,n)\n",
    "d = np.random.randint(0,2,n)\n",
    "x = a +b +c + d\n",
    "for i in range(0,n):\n",
    "    if x[i] == 3:\n",
    "        k = k+1\n",
    "#print(a,b,c,d)\n",
    "#print(x)\n",
    "print(k,n,k/n)\n",
    "n1=4\n",
    "k1=3\n",
    "C = math.factorial(n1)/(math.factorial(k1)*math.factorial(n1-k1))\n",
    "print(C)\n",
    "P = C*(1/2**k1)*(1/2**(n1-k1))\n",
    "print(P)"
   ]
  },
  {
   "cell_type": "code",
   "execution_count": 177,
   "metadata": {},
   "outputs": [
    {
     "name": "stdout",
     "output_type": "stream",
     "text": [
      "3053 10000 0.3053\n",
      "10.0\n",
      "0.3125\n"
     ]
    }
   ],
   "source": [
    "k,n = 0,10000\n",
    "a = np.random.randint(0,2,n)\n",
    "b = np.random.randint(0,2,n)\n",
    "c = np.random.randint(0,2,n)\n",
    "d = np.random.randint(0,2,n)\n",
    "e = np.random.randint(0,2,n)\n",
    "x = a +b +c + d + e\n",
    "for i in range(0,n):\n",
    "    if x[i] == 3:\n",
    "        k = k+1\n",
    "#print(a,b,c,d)\n",
    "#print(x)\n",
    "print(k,n,k/n)\n",
    "n1=5\n",
    "k1=3\n",
    "C = math.factorial(n1)/(math.factorial(k1)*math.factorial(n1-k1))\n",
    "print(C)\n",
    "P = C*(1/2**k1)*(1/2**(n1-k1))\n",
    "print(P)"
   ]
  },
  {
   "cell_type": "markdown",
   "metadata": {},
   "source": [
    "#### Задача 4"
   ]
  },
  {
   "cell_type": "code",
   "execution_count": 195,
   "metadata": {},
   "outputs": [
    {
     "name": "stdout",
     "output_type": "stream",
     "text": [
      "01234\n",
      "01243\n",
      "01324\n",
      "01342\n",
      "01423\n",
      "01432\n",
      "02134\n",
      "02143\n",
      "02314\n",
      "02341\n",
      "02413\n",
      "02431\n",
      "03124\n",
      "03142\n",
      "03214\n",
      "03241\n",
      "03412\n",
      "03421\n",
      "04123\n",
      "04132\n",
      "04213\n",
      "04231\n",
      "04312\n",
      "04321\n",
      "10234\n",
      "10243\n",
      "10324\n",
      "10342\n",
      "10423\n",
      "10432\n",
      "12034\n",
      "12043\n",
      "12304\n",
      "12340\n",
      "12403\n",
      "12430\n",
      "13024\n",
      "13042\n",
      "13204\n",
      "13240\n",
      "13402\n",
      "13420\n",
      "14023\n",
      "14032\n",
      "14203\n",
      "14230\n",
      "14302\n",
      "14320\n",
      "20134\n",
      "20143\n",
      "20314\n",
      "20341\n",
      "20413\n",
      "20431\n",
      "21034\n",
      "21043\n",
      "21304\n",
      "21340\n",
      "21403\n",
      "21430\n",
      "23014\n",
      "23041\n",
      "23104\n",
      "23140\n",
      "23401\n",
      "23410\n",
      "24013\n",
      "24031\n",
      "24103\n",
      "24130\n",
      "24301\n",
      "24310\n",
      "30124\n",
      "30142\n",
      "30214\n",
      "30241\n",
      "30412\n",
      "30421\n",
      "31024\n",
      "31042\n",
      "31204\n",
      "31240\n",
      "31402\n",
      "31420\n",
      "32014\n",
      "32041\n",
      "32104\n",
      "32140\n",
      "32401\n",
      "32410\n",
      "34012\n",
      "34021\n",
      "34102\n",
      "34120\n",
      "34201\n",
      "34210\n",
      "40123\n",
      "40132\n",
      "40213\n",
      "40231\n",
      "40312\n",
      "40321\n",
      "41023\n",
      "41032\n",
      "41203\n",
      "41230\n",
      "41302\n",
      "41320\n",
      "42013\n",
      "42031\n",
      "42103\n",
      "42130\n",
      "42301\n",
      "42310\n",
      "43012\n",
      "43021\n",
      "43102\n",
      "43120\n",
      "43201\n",
      "43210\n"
     ]
    }
   ],
   "source": [
    "for p in itertools.permutations('01234', 5):\n",
    "    print(''.join(str(x) for x in p))"
   ]
  },
  {
   "cell_type": "code",
   "execution_count": 198,
   "metadata": {},
   "outputs": [
    {
     "name": "stdout",
     "output_type": "stream",
     "text": [
      "01234\n"
     ]
    }
   ],
   "source": [
    "for p in itertools.combinations('01234', 5):\n",
    "    print(''.join(p))"
   ]
  },
  {
   "cell_type": "markdown",
   "metadata": {},
   "source": [
    "#### Задача 5"
   ]
  },
  {
   "cell_type": "code",
   "execution_count": 201,
   "metadata": {},
   "outputs": [
    {
     "data": {
      "image/png": "[encoded data removed]",
      "text/plain": [
       "<Figure size 432x288 with 1 Axes>"
      ]
     },
     "metadata": {
      "needs_background": "light"
     },
     "output_type": "display_data"
    }
   ],
   "source": [
    "n = 100\n",
    "r = 0.7\n",
    "x = np.random.rand(n)\n",
    "y = r*x + (1-r)*np.random.rand(n)\n",
    "plt.plot(x,y, 'o')\n",
    "plt.xlabel('x')\n",
    "plt.ylabel('y')\n",
    "plt.grid(True)\n",
    "\n"
   ]
  },
  {
   "cell_type": "code",
   "execution_count": 204,
   "metadata": {},
   "outputs": [
    {
     "data": {
      "text/plain": [
       "10.110305480596866"
      ]
     },
     "execution_count": 204,
     "metadata": {},
     "output_type": "execute_result"
    }
   ],
   "source": [
    "R = (np.sum((x - np.mean(x)*(y-np.mean(y)))))/np.sqrt(sum((x-np.mean(x))*(x-np.mean(x)))*sum((y-np.mean(y))*(y-np.mean(y)))) \n",
    "R"
   ]
  },
  {
   "cell_type": "code",
   "execution_count": null,
   "metadata": {},
   "outputs": [],
   "source": []
  }
 ],
 "metadata": {
  "kernelspec": {
   "display_name": "Python 3",
   "language": "python",
   "name": "python3"
  },
  "language_info": {
   "codemirror_mode": {
    "name": "ipython",
    "version": 3
   },
   "file_extension": ".py",
   "mimetype": "text/x-python",
   "name": "python",
   "nbconvert_exporter": "python",
   "pygments_lexer": "ipython3",
   "version": "3.7.3"
  }
 },
 "nbformat": 4,
 "nbformat_minor": 2
}
